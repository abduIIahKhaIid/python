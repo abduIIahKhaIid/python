{
 "cells": [
  {
   "cell_type": "code",
   "execution_count": null,
   "metadata": {},
   "outputs": [],
   "source": [
    "print(\"Hello World\")\n",
    "print(\"Pakistan Zindabad\")"
   ]
  },
  {
   "cell_type": "code",
   "execution_count": null,
   "metadata": {},
   "outputs": [],
   "source": [
    "name:str=\"Abdullah Khalid\"\n",
    "print(name)"
   ]
  },
  {
   "cell_type": "markdown",
   "metadata": {},
   "source": [
    "# String with single Quote"
   ]
  },
  {
   "cell_type": "code",
   "execution_count": null,
   "metadata": {},
   "outputs": [],
   "source": [
    "#string with single  quote\n",
    "name : str = 'Abdullah Khalid \"CS\" Student'\n",
    "print(name)\n",
    "name = 'Abdullah Khalid \\' CS \\' Student'\n",
    "print(name)"
   ]
  },
  {
   "cell_type": "markdown",
   "metadata": {},
   "source": [
    "# String with double quote"
   ]
  },
  {
   "cell_type": "code",
   "execution_count": null,
   "metadata": {},
   "outputs": [],
   "source": [
    "name : str = \"Abdullah Khalid 'CS' Student\"\n",
    "print(name)\n",
    "name = \"Abdullah Khalid \\\"CS\\\" Student\"\n",
    "print(name)"
   ]
  },
  {
   "cell_type": "markdown",
   "metadata": {},
   "source": [
    "# Use Blackslash \n"
   ]
  },
  {
   "cell_type": "code",
   "execution_count": null,
   "metadata": {},
   "outputs": [],
   "source": [
    "# means line continue\n",
    "print (2 \\\n",
    "       + 3 \\\n",
    "        + 4)\n",
    "print(\"name \"+ \\\n",
    "      \" How are you \"\\\n",
    "        \"Nothing can do it again\")"
   ]
  },
  {
   "cell_type": "markdown",
   "metadata": {},
   "source": [
    "# Define multiline string by using ''' ''' and \"\"\" \"\"\" quote"
   ]
  },
  {
   "cell_type": "code",
   "execution_count": null,
   "metadata": {},
   "outputs": [],
   "source": [
    "name : str = '''How are you\n",
    "Nothin can do it again'''\n",
    "print(name)\n",
    "name = \"\"\"How are you \n",
    "Nothing can do it again\n",
    "\"\"\"\n",
    "print(name)"
   ]
  },
  {
   "cell_type": "markdown",
   "metadata": {},
   "source": [
    "# F-string "
   ]
  },
  {
   "cell_type": "code",
   "execution_count": null,
   "metadata": {},
   "outputs": [],
   "source": [
    "first : str = \"Abdullah\"\n",
    "last : str = \"Khalid\"\n",
    "degree : str = \"Bachelor of Computer Science\"\n",
    "age : int = 30\n",
    "\n",
    "print(f\"first name : {first} last name : {last} degree is : {degree} and age is {age}\")\n",
    "# if you want to multitline comment then you use blackslash or \\n but if you use triple quote then the problem it solve \n",
    "\n",
    "print(f'''First Name : {first}\n",
    "Last Name : {last}\n",
    "Degree : {degree}\n",
    "Age : {age}\n",
    "''')"
   ]
  },
  {
   "cell_type": "markdown",
   "metadata": {},
   "source": [
    "# Ginga Style"
   ]
  },
  {
   "cell_type": "code",
   "execution_count": null,
   "metadata": {},
   "outputs": [],
   "source": [
    "# ginga style is same with fstream but difference is use double {{}} bracket it mostly used in web\n",
    "first : str = \"Abdullah\"\n",
    "last : str = \"Khalid\"\n",
    "degree : str = \"Bachelor of Computer Science\"\n",
    "age : int = 30\n",
    "\n",
    "#fstream\n",
    "print(f\"first name : {first} last name : {last} degree is : {degree} and age is {age}\")\n",
    "# if you want to multitline comment then you use blackslash or \\n but if you use triple quote then the problem it solve \n",
    "\n",
    "#ginga style\n",
    "print(f'''First Name : {{first}}\n",
    "Last Name : {{last}}\n",
    "Degree : {{degree}}\n",
    "Age : {{age}}\n",
    "''')"
   ]
  },
  {
   "cell_type": "markdown",
   "metadata": {},
   "source": [
    "# Simple technique"
   ]
  },
  {
   "cell_type": "code",
   "execution_count": 7,
   "metadata": {},
   "outputs": [
    {
     "name": "stdout",
     "output_type": "stream",
     "text": [
      "\n",
      "First : Abdullah\n",
      "Last : Khalid\n",
      "Degree : Bachelor of Computer Science\n",
      "Age : 30 \n",
      "\n",
      "First: Abdullah \n",
      "Last : Khalid \n",
      "degree : Bachelor of Computer Science \n",
      "age : 30\n",
      "\n",
      "First : Khalid\n",
      "Last : Abdullah\n",
      "Degree : Bachelor of Computer Science\n",
      "age: 30\n",
      "\n"
     ]
    }
   ],
   "source": [
    "first : str = \"Abdullah\"\n",
    "last : str = \"Khalid\"\n",
    "degree : str = \"Bachelor of Computer Science\"\n",
    "age : int = 30\n",
    "\n",
    "print('''\n",
    "First : %s\n",
    "Last : %s\n",
    "Degree : %s\n",
    "Age : %d \n",
    "'''%(first,last,degree,age))\n",
    "\n",
    "print(\"First: {} \\nLast : {} \\ndegree : {} \\nage : {}\".format(first,last,degree,age))\n",
    "\n",
    "# by solve the upper format technique by using this \n",
    "\n",
    "print('''\n",
    "First : {1}\n",
    "Last : {0}\n",
    "Degree : {2}\n",
    "age: {3}\n",
    "'''.format(first,last,degree,age))\n",
    "\n",
    "# another technique for format \n",
    "\n",
    "print('''\n",
    "First : {a}\n",
    "Last : {b}\n",
    "Degree : {c}\n",
    "age: {d}\n",
    "'''.format(a=first,b=last,c=degree,d=age))"
   ]
  }
 ],
 "metadata": {
  "kernelspec": {
   "display_name": "base",
   "language": "python",
   "name": "python3"
  },
  "language_info": {
   "codemirror_mode": {
    "name": "ipython",
    "version": 3
   },
   "file_extension": ".py",
   "mimetype": "text/x-python",
   "name": "python",
   "nbconvert_exporter": "python",
   "pygments_lexer": "ipython3",
   "version": "3.12.0"
  }
 },
 "nbformat": 4,
 "nbformat_minor": 2
}
